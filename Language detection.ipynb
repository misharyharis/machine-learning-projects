{
 "cells": [
  {
   "cell_type": "markdown",
   "id": "0af3704a",
   "metadata": {},
   "source": [
    "<h1 style=\"color:purple\" align=\"center\"> Language Detection Using  ML Techniques</h1>"
   ]
  },
  {
   "cell_type": "code",
   "execution_count": null,
   "id": "4312d79d",
   "metadata": {},
   "outputs": [],
   "source": [
    "<h3 style=\"color:blue\" align=\"left\">"
   ]
  },
  {
   "cell_type": "markdown",
   "id": "e2e3336a",
   "metadata": {},
   "source": [
    "Language detection is a natural language processing task where we need to identify the language of a text or document. Using machine learning for language identification was a difficult task a few years ago because there was not a lot of data on languages, but with the availability of data with ease, several powerful machine learning models are already available for language identification. So, if you want to learn how to train a machine learning model for language detection, then this article is for you. In this article,  will go through the task of language detection with machine learning using Python."
   ]
  },
  {
   "cell_type": "markdown",
   "id": "46b4adae",
   "metadata": {},
   "source": [
    "<h3 style=\"color:blue\" align=\"left\">  Loading the neccesary libraries to perform the dataset</h3>"
   ]
  },
  {
   "cell_type": "code",
   "execution_count": 1,
   "id": "c1e7a8a6",
   "metadata": {},
   "outputs": [],
   "source": [
    "import pandas as pd\n",
    "import numpy as np\n",
    "import re  \n",
    "from sklearn.feature_extraction.text import CountVectorizer\n",
    "from sklearn.model_selection import train_test_split\n",
    "from sklearn.naive_bayes import MultinomialNB\n",
    "\n"
   ]
  },
  {
   "cell_type": "markdown",
   "id": "8efba6b8",
   "metadata": {},
   "source": [
    " <h3 style=\"color:blue\" align=\"left\"> Importing the dataset</h3>"
   ]
  },
  {
   "cell_type": "code",
   "execution_count": 16,
   "id": "0e539f20",
   "metadata": {},
   "outputs": [
    {
     "data": {
      "text/html": [
       "<div>\n",
       "<style scoped>\n",
       "    .dataframe tbody tr th:only-of-type {\n",
       "        vertical-align: middle;\n",
       "    }\n",
       "\n",
       "    .dataframe tbody tr th {\n",
       "        vertical-align: top;\n",
       "    }\n",
       "\n",
       "    .dataframe thead th {\n",
       "        text-align: right;\n",
       "    }\n",
       "</style>\n",
       "<table border=\"1\" class=\"dataframe\">\n",
       "  <thead>\n",
       "    <tr style=\"text-align: right;\">\n",
       "      <th></th>\n",
       "      <th>Text</th>\n",
       "      <th>language</th>\n",
       "    </tr>\n",
       "  </thead>\n",
       "  <tbody>\n",
       "    <tr>\n",
       "      <th>0</th>\n",
       "      <td>klement gottwaldi surnukeha palsameeriti ning ...</td>\n",
       "      <td>Estonian</td>\n",
       "    </tr>\n",
       "    <tr>\n",
       "      <th>1</th>\n",
       "      <td>sebes joseph pereira thomas  på eng the jesuit...</td>\n",
       "      <td>Swedish</td>\n",
       "    </tr>\n",
       "    <tr>\n",
       "      <th>2</th>\n",
       "      <td>ถนนเจริญกรุง อักษรโรมัน thanon charoen krung เ...</td>\n",
       "      <td>Thai</td>\n",
       "    </tr>\n",
       "    <tr>\n",
       "      <th>3</th>\n",
       "      <td>விசாகப்பட்டினம் தமிழ்ச்சங்கத்தை இந்துப் பத்திர...</td>\n",
       "      <td>Tamil</td>\n",
       "    </tr>\n",
       "    <tr>\n",
       "      <th>4</th>\n",
       "      <td>de spons behoort tot het geslacht haliclona en...</td>\n",
       "      <td>Dutch</td>\n",
       "    </tr>\n",
       "  </tbody>\n",
       "</table>\n",
       "</div>"
      ],
      "text/plain": [
       "                                                Text  language\n",
       "0  klement gottwaldi surnukeha palsameeriti ning ...  Estonian\n",
       "1  sebes joseph pereira thomas  på eng the jesuit...   Swedish\n",
       "2  ถนนเจริญกรุง อักษรโรมัน thanon charoen krung เ...      Thai\n",
       "3  விசாகப்பட்டினம் தமிழ்ச்சங்கத்தை இந்துப் பத்திர...     Tamil\n",
       "4  de spons behoort tot het geslacht haliclona en...     Dutch"
      ]
     },
     "execution_count": 16,
     "metadata": {},
     "output_type": "execute_result"
    }
   ],
   "source": [
    "dataset = pd.read_csv(\"language.csv\")\n",
    "dataset.head()"
   ]
  },
  {
   "cell_type": "markdown",
   "id": "5ba474ee",
   "metadata": {},
   "source": [
    " <h3 style=\"color:blue\" align=\"left\">Finding null values form the dataset</h3>"
   ]
  },
  {
   "cell_type": "code",
   "execution_count": 17,
   "id": "bc8ecf4e",
   "metadata": {},
   "outputs": [
    {
     "data": {
      "text/plain": [
       "Text        0\n",
       "language    0\n",
       "dtype: int64"
      ]
     },
     "execution_count": 17,
     "metadata": {},
     "output_type": "execute_result"
    }
   ],
   "source": [
    "dataset.isnull().sum()"
   ]
  },
  {
   "cell_type": "markdown",
   "id": "b3c2a197",
   "metadata": {},
   "source": [
    " <h3 style=\"color:blue\" align=\"left\">Removing Na values from the dataset</h3>"
   ]
  },
  {
   "cell_type": "code",
   "execution_count": 18,
   "id": "c9f99289",
   "metadata": {},
   "outputs": [
    {
     "data": {
      "text/html": [
       "<div>\n",
       "<style scoped>\n",
       "    .dataframe tbody tr th:only-of-type {\n",
       "        vertical-align: middle;\n",
       "    }\n",
       "\n",
       "    .dataframe tbody tr th {\n",
       "        vertical-align: top;\n",
       "    }\n",
       "\n",
       "    .dataframe thead th {\n",
       "        text-align: right;\n",
       "    }\n",
       "</style>\n",
       "<table border=\"1\" class=\"dataframe\">\n",
       "  <thead>\n",
       "    <tr style=\"text-align: right;\">\n",
       "      <th></th>\n",
       "      <th>Text</th>\n",
       "      <th>language</th>\n",
       "    </tr>\n",
       "  </thead>\n",
       "  <tbody>\n",
       "    <tr>\n",
       "      <th>0</th>\n",
       "      <td>klement gottwaldi surnukeha palsameeriti ning ...</td>\n",
       "      <td>Estonian</td>\n",
       "    </tr>\n",
       "    <tr>\n",
       "      <th>1</th>\n",
       "      <td>sebes joseph pereira thomas  på eng the jesuit...</td>\n",
       "      <td>Swedish</td>\n",
       "    </tr>\n",
       "    <tr>\n",
       "      <th>2</th>\n",
       "      <td>ถนนเจริญกรุง อักษรโรมัน thanon charoen krung เ...</td>\n",
       "      <td>Thai</td>\n",
       "    </tr>\n",
       "    <tr>\n",
       "      <th>3</th>\n",
       "      <td>விசாகப்பட்டினம் தமிழ்ச்சங்கத்தை இந்துப் பத்திர...</td>\n",
       "      <td>Tamil</td>\n",
       "    </tr>\n",
       "    <tr>\n",
       "      <th>4</th>\n",
       "      <td>de spons behoort tot het geslacht haliclona en...</td>\n",
       "      <td>Dutch</td>\n",
       "    </tr>\n",
       "    <tr>\n",
       "      <th>...</th>\n",
       "      <td>...</td>\n",
       "      <td>...</td>\n",
       "    </tr>\n",
       "    <tr>\n",
       "      <th>22995</th>\n",
       "      <td>നിങ്ങളുടെ തെറ്റ് വന്നത് ആ ദിവസം മുതൽ നിങ്ങൾക്ക...</td>\n",
       "      <td>Malayalam</td>\n",
       "    </tr>\n",
       "    <tr>\n",
       "      <th>22996</th>\n",
       "      <td>നാർസിസ ആദ്യം പാടുപെട്ട വഴികൾ മാറ്റി, പക്ഷേ പതു...</td>\n",
       "      <td>Malayalam</td>\n",
       "    </tr>\n",
       "    <tr>\n",
       "      <th>22997</th>\n",
       "      <td>എങ്ങനെ' സംഭവിച്ച എല്ലാ കാര്യങ്ങളും ഇപ്പോൾ മരിയ...</td>\n",
       "      <td>Malayalam</td>\n",
       "    </tr>\n",
       "    <tr>\n",
       "      <th>22998</th>\n",
       "      <td>അവൾക്കറിയാമോ, അവൾക്ക് ഇപ്പോൾ കൂടുതൽ സ്വർണ്ണ റൊ...</td>\n",
       "      <td>Malayalam</td>\n",
       "    </tr>\n",
       "    <tr>\n",
       "      <th>22999</th>\n",
       "      <td>ടെറി നിങ്ങൾ യഥാർത്ഥത്തിൽ ആ മാലാഖയെപ്പോലെയാണ് ക...</td>\n",
       "      <td>Malayalam</td>\n",
       "    </tr>\n",
       "  </tbody>\n",
       "</table>\n",
       "<p>23000 rows × 2 columns</p>\n",
       "</div>"
      ],
      "text/plain": [
       "                                                    Text   language\n",
       "0      klement gottwaldi surnukeha palsameeriti ning ...   Estonian\n",
       "1      sebes joseph pereira thomas  på eng the jesuit...    Swedish\n",
       "2      ถนนเจริญกรุง อักษรโรมัน thanon charoen krung เ...       Thai\n",
       "3      விசாகப்பட்டினம் தமிழ்ச்சங்கத்தை இந்துப் பத்திர...      Tamil\n",
       "4      de spons behoort tot het geslacht haliclona en...      Dutch\n",
       "...                                                  ...        ...\n",
       "22995  നിങ്ങളുടെ തെറ്റ് വന്നത് ആ ദിവസം മുതൽ നിങ്ങൾക്ക...  Malayalam\n",
       "22996  നാർസിസ ആദ്യം പാടുപെട്ട വഴികൾ മാറ്റി, പക്ഷേ പതു...  Malayalam\n",
       "22997  എങ്ങനെ' സംഭവിച്ച എല്ലാ കാര്യങ്ങളും ഇപ്പോൾ മരിയ...  Malayalam\n",
       "22998  അവൾക്കറിയാമോ, അവൾക്ക് ഇപ്പോൾ കൂടുതൽ സ്വർണ്ണ റൊ...  Malayalam\n",
       "22999  ടെറി നിങ്ങൾ യഥാർത്ഥത്തിൽ ആ മാലാഖയെപ്പോലെയാണ് ക...  Malayalam\n",
       "\n",
       "[23000 rows x 2 columns]"
      ]
     },
     "execution_count": 18,
     "metadata": {},
     "output_type": "execute_result"
    }
   ],
   "source": [
    "dataset.dropna()"
   ]
  },
  {
   "cell_type": "markdown",
   "id": "7424dc0a",
   "metadata": {},
   "source": [
    "<h3 style=\"color:blue\" align=\"left\">Now let’s have a look at all the languages present in this dataset</h3>"
   ]
  },
  {
   "cell_type": "code",
   "execution_count": 19,
   "id": "76a583cc",
   "metadata": {},
   "outputs": [
    {
     "data": {
      "text/plain": [
       "Estonian      1000\n",
       "Chinese       1000\n",
       "Arabic        1000\n",
       "English       1000\n",
       "Russian       1000\n",
       "Romanian      1000\n",
       "Persian       1000\n",
       "Pushto        1000\n",
       "Spanish       1000\n",
       "Hindi         1000\n",
       "Korean        1000\n",
       "French        1000\n",
       "Swedish       1000\n",
       "Portugese     1000\n",
       "Indonesian    1000\n",
       "Urdu          1000\n",
       "Latin         1000\n",
       "Turkish       1000\n",
       "Japanese      1000\n",
       "Dutch         1000\n",
       "Tamil         1000\n",
       "Thai          1000\n",
       "Malayalam     1000\n",
       "Name: language, dtype: int64"
      ]
     },
     "execution_count": 19,
     "metadata": {},
     "output_type": "execute_result"
    }
   ],
   "source": [
    "dataset[\"language\"].value_counts()"
   ]
  },
  {
   "cell_type": "markdown",
   "id": "159d554b",
   "metadata": {},
   "source": [
    "<h3 style=\"color:blue\" align=\"left\">Now let’s split the data into training and test sets:</h3>"
   ]
  },
  {
   "cell_type": "code",
   "execution_count": 20,
   "id": "3dc413c3",
   "metadata": {},
   "outputs": [
    {
     "data": {
      "text/plain": [
       "0        klement gottwaldi surnukeha palsameeriti ning ...\n",
       "1        sebes joseph pereira thomas  på eng the jesuit...\n",
       "2        ถนนเจริญกรุง อักษรโรมัน thanon charoen krung เ...\n",
       "3        விசாகப்பட்டினம் தமிழ்ச்சங்கத்தை இந்துப் பத்திர...\n",
       "4        de spons behoort tot het geslacht haliclona en...\n",
       "                               ...                        \n",
       "22995    നിങ്ങളുടെ തെറ്റ് വന്നത് ആ ദിവസം മുതൽ നിങ്ങൾക്ക...\n",
       "22996    നാർസിസ ആദ്യം പാടുപെട്ട വഴികൾ മാറ്റി, പക്ഷേ പതു...\n",
       "22997    എങ്ങനെ' സംഭവിച്ച എല്ലാ കാര്യങ്ങളും ഇപ്പോൾ മരിയ...\n",
       "22998    അവൾക്കറിയാമോ, അവൾക്ക് ഇപ്പോൾ കൂടുതൽ സ്വർണ്ണ റൊ...\n",
       "22999    ടെറി നിങ്ങൾ യഥാർത്ഥത്തിൽ ആ മാലാഖയെപ്പോലെയാണ് ക...\n",
       "Name: Text, Length: 23000, dtype: object"
      ]
     },
     "execution_count": 20,
     "metadata": {},
     "output_type": "execute_result"
    }
   ],
   "source": [
    "x=dataset[\"Text\"]\n",
    "x"
   ]
  },
  {
   "cell_type": "code",
   "execution_count": 21,
   "id": "20d6f430",
   "metadata": {},
   "outputs": [],
   "source": [
    "data_list = []\n",
    "\n",
    "# iterating through all the text\n",
    "for text in x:         \n",
    "    text = re.sub(r'[!@#$(),n\"%^*?:;~`0-9]', ' ', text)      # removing the symbols and numbers\n",
    "    text = re.sub(r'[[]]', ' ', text)   \n",
    "    #text = text.lower()          # converting the text to lower case\n",
    "    data_list.append(text)       # appending to data_list"
   ]
  },
  {
   "cell_type": "code",
   "execution_count": 22,
   "id": "8e161bab",
   "metadata": {},
   "outputs": [
    {
     "data": {
      "text/plain": [
       "0         Estonian\n",
       "1          Swedish\n",
       "2             Thai\n",
       "3            Tamil\n",
       "4            Dutch\n",
       "           ...    \n",
       "22995    Malayalam\n",
       "22996    Malayalam\n",
       "22997    Malayalam\n",
       "22998    Malayalam\n",
       "22999    Malayalam\n",
       "Name: language, Length: 23000, dtype: object"
      ]
     },
     "execution_count": 22,
     "metadata": {},
     "output_type": "execute_result"
    }
   ],
   "source": [
    "y=dataset[\"language\"]\n",
    "y"
   ]
  },
  {
   "cell_type": "code",
   "execution_count": 23,
   "id": "e1946d80",
   "metadata": {},
   "outputs": [
    {
     "data": {
      "text/plain": [
       "(23000,)"
      ]
     },
     "execution_count": 23,
     "metadata": {},
     "output_type": "execute_result"
    }
   ],
   "source": [
    "y.shape"
   ]
  },
  {
   "cell_type": "code",
   "execution_count": 24,
   "id": "d0d25774",
   "metadata": {},
   "outputs": [],
   "source": [
    "CV=CountVectorizer()"
   ]
  },
  {
   "cell_type": "code",
   "execution_count": 25,
   "id": "f961283c",
   "metadata": {},
   "outputs": [],
   "source": [
    "X=CV.fit_transform(data_list)\n",
    "x_train, x_test, y_train, y_test = train_test_split(X, y,test_size=0.33,random_state=42)                                                    "
   ]
  },
  {
   "cell_type": "code",
   "execution_count": 26,
   "id": "f6a884d6",
   "metadata": {},
   "outputs": [],
   "source": [
    "#Label Encoding to convert it into a numerical form\n",
    "#from sklearn.preprocessing import LabelEncoder\n",
    "#le = LabelEncoder()\n",
    "#y = le.fit_transform(y)\n",
    "#y"
   ]
  },
  {
   "cell_type": "code",
   "execution_count": 27,
   "id": "ee57a1cb",
   "metadata": {},
   "outputs": [
    {
     "name": "stdout",
     "output_type": "stream",
     "text": [
      "accuracy is : 0.9411067193675889\n"
     ]
    }
   ],
   "source": [
    "model = MultinomialNB()\n",
    "model.fit(x_train,y_train)\n",
    "percent=model.score(x_test,y_test)\n",
    "print(f\"accuracy is : {percent}\")\n"
   ]
  },
  {
   "cell_type": "code",
   "execution_count": 28,
   "id": "5fa37854",
   "metadata": {},
   "outputs": [],
   "source": [
    "def predict_language():\n",
    "    user = input(\"Enter a Text: \")\n",
    "    data = CV.transform([user]).toarray()\n",
    "    output = model.predict(data)\n",
    "    print(output)\n",
    "    "
   ]
  },
  {
   "cell_type": "code",
   "execution_count": 29,
   "id": "858a7089",
   "metadata": {},
   "outputs": [
    {
     "name": "stdout",
     "output_type": "stream",
     "text": [
      "Enter a Text: സംഭവിച്ച എല്ലാ കാര്യങ്ങളും \n",
      "['Malayalam']\n"
     ]
    }
   ],
   "source": [
    "predict_language()"
   ]
  },
  {
   "cell_type": "code",
   "execution_count": null,
   "id": "dfed913d",
   "metadata": {},
   "outputs": [],
   "source": []
  },
  {
   "cell_type": "code",
   "execution_count": null,
   "id": "0b6db504",
   "metadata": {},
   "outputs": [],
   "source": []
  },
  {
   "cell_type": "code",
   "execution_count": null,
   "id": "288a04a9",
   "metadata": {},
   "outputs": [],
   "source": []
  }
 ],
 "metadata": {
  "kernelspec": {
   "display_name": "Python 3 (ipykernel)",
   "language": "python",
   "name": "python3"
  },
  "language_info": {
   "codemirror_mode": {
    "name": "ipython",
    "version": 3
   },
   "file_extension": ".py",
   "mimetype": "text/x-python",
   "name": "python",
   "nbconvert_exporter": "python",
   "pygments_lexer": "ipython3",
   "version": "3.9.13"
  }
 },
 "nbformat": 4,
 "nbformat_minor": 5
}
